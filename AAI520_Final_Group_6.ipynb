{
  "nbformat": 4,
  "nbformat_minor": 0,
  "metadata": {
    "colab": {
      "provenance": [],
      "authorship_tag": "ABX9TyN+rbqf1gPymSvacsLBiDst",
      "include_colab_link": true
    },
    "kernelspec": {
      "name": "python3",
      "display_name": "Python 3"
    },
    "language_info": {
      "name": "python"
    }
  },
  "cells": [
    {
      "cell_type": "markdown",
      "metadata": {
        "id": "view-in-github",
        "colab_type": "text"
      },
      "source": [
        "<a href=\"https://colab.research.google.com/github/agraves13/AAI520/blob/main/AAI520_Final_Group_6.ipynb\" target=\"_parent\"><img src=\"https://colab.research.google.com/assets/colab-badge.svg\" alt=\"Open In Colab\"/></a>"
      ]
    },
    {
      "cell_type": "markdown",
      "source": [
        "##########################################################################################\n",
        "## **AAI-520**                                                                                 #\n",
        "## **Final Project - Group 6**                                                                 #\n",
        "## **Chatbot for Movie Info utilizing the Cornell Movie Dialogs Corpus**        \n",
        "##########################################################################################"
      ],
      "metadata": {
        "id": "56ODAhGCFJS0"
      }
    },
    {
      "cell_type": "code",
      "execution_count": null,
      "metadata": {
        "id": "urvmCUWPFEZo"
      },
      "outputs": [],
      "source": []
    }
  ]
}