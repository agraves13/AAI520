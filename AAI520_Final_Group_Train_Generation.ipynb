{
 "cells": [
  {
   "cell_type": "markdown",
   "metadata": {
    "id": "k7Ep-hobDS32"
   },
   "source": [
    "#############################################################################################\n",
    "## **AAI-520**                                                                                 #\n",
    "## **Final Project - Group 6**                                                                 #\n",
    "## **Chatbot for Movie Info utilizing the Cornell Movie Dialogs Corpus**        \n",
    "\n",
    "This Jupyter Notebook is used to generate the training dataset that will be used to the train the LLM ChatBot\n",
    "\n",
    "#############################################################################################"
   ]
  },
  {
   "cell_type": "code",
   "execution_count": 82,
   "metadata": {
    "id": "XGfggB3YDN7K"
   },
   "outputs": [],
   "source": [
    "#@title 1: Load the related Libraries\n",
    "from __future__ import absolute_import, division, print_function, unicode_literals\n",
    "import argparse\n",
    "import codecs\n",
    "import csv\n",
    "import os\n",
    "import pandas as pd\n",
    "import ast\n",
    "import re"
   ]
  },
  {
   "cell_type": "markdown",
   "metadata": {
    "id": "N0GSCXsKXsMh"
   },
   "source": [
    "##2: Load Movie Data Corpus"
   ]
  },
  {
   "cell_type": "code",
   "execution_count": 83,
   "metadata": {},
   "outputs": [],
   "source": [
    "is_on_colab = False\n",
    "\n",
    "google_drive = \"/content/drive/MyDrive/AAI-520/Final/Data\"\n",
    "local_dir = \"./Dataset/Cornell_Movie_Dialog_Corpus/\"\n",
    "# local_dir = 'C:/Users/alden/AAI520/Final Project/Dataset'\n",
    "\n",
    "dataset_dir = local_dir\n",
    "if (is_on_colab):\n",
    "    dataset_dir = google_drive\n",
    "\n",
    "train_dir = dataset_dir + \"../Train/\"\n",
    "# train_dir = dataset_dir + '/Train/'\n",
    "if not os.path.exists(train_dir):\n",
    "    os.makedirs(train_dir)"
   ]
  },
  {
   "cell_type": "code",
   "execution_count": 84,
   "metadata": {
    "id": "y3awleOxH_d-"
   },
   "outputs": [],
   "source": [
    "#@title 2.1: Load line_data\n",
    "#Load the Line file\n",
    "\n",
    "def loadLines(filePath, fields):\n",
    "    \"\"\"\n",
    "    Args:\n",
    "        filePath (str): full path to the file to load\n",
    "        fields (set<str>): fields to extract\n",
    "    Return:\n",
    "        dict<dict<str>>: the extracted fields for each line\n",
    "    \"\"\"\n",
    "    lines = {}\n",
    "\n",
    "    with open(filePath, 'r', encoding='iso-8859-1') as f:\n",
    "        for line in f:\n",
    "            values = line.split(\" +++$+++ \")\n",
    "\n",
    "            # Extract fields\n",
    "            lineObj = {}\n",
    "            for i, field in enumerate(fields):\n",
    "                lineObj[field] = values[i]\n",
    "\n",
    "            lines[lineObj['lineID']] = lineObj\n",
    "\n",
    "    return lines\n",
    "\n",
    "# Usage example\n",
    "fields_to_extract = ['lineID', 'characterID', 'movieID', 'character', 'text']\n",
    "file_path = dataset_dir + \"/movie_lines.txt\"\n",
    "lines_data = loadLines(file_path, fields_to_extract)"
   ]
  },
  {
   "cell_type": "code",
   "execution_count": 85,
   "metadata": {
    "id": "UkR7NeWbIDN_"
   },
   "outputs": [],
   "source": [
    "#@title 2.2: Load the charachter_data\n",
    "def loadCharacterMetadata(filePath, fields):\n",
    "    \"\"\"\n",
    "    Args:\n",
    "        filePath (str): full path to the character metadata file to load\n",
    "        fields (set<str>): fields to extract\n",
    "    Return:\n",
    "        dict<dict<str>>: the extracted fields for each character\n",
    "    \"\"\"\n",
    "    characters = {}\n",
    "\n",
    "    with open(filePath, 'r', encoding='iso-8859-1') as f:\n",
    "        for line in f:\n",
    "            values = line.split(\" +++$+++ \")\n",
    "\n",
    "            # Extract fields\n",
    "            characterObj = {}\n",
    "            for i, field in enumerate(fields):\n",
    "                characterObj[field] = values[i]\n",
    "\n",
    "            characters[characterObj['characterID']] = characterObj\n",
    "\n",
    "    return characters\n",
    "\n",
    "# Usage example\n",
    "character_fields_to_extract = ['characterID', 'characterName', 'movieID', 'movieTitle', 'gender', 'position']\n",
    "character_file_path = dataset_dir + \"/movie_characters_metadata.txt\"\n",
    "character_data = loadCharacterMetadata(character_file_path, character_fields_to_extract)"
   ]
  },
  {
   "cell_type": "code",
   "execution_count": 86,
   "metadata": {
    "id": "8CRg8hbSIHVC"
   },
   "outputs": [],
   "source": [
    "#@title 2.3: Load conversation_data\n",
    "def loadConversations(filePath, fields):\n",
    "    \"\"\"\n",
    "    Args:\n",
    "        filePath (str): full path to the conversations file to load\n",
    "        fields (set<str>): fields to extract\n",
    "    Return:\n",
    "        list<dict<str>>: a list of dictionaries representing conversations\n",
    "    \"\"\"\n",
    "\n",
    "    conversations = {}\n",
    "\n",
    "    with open(filePath, 'r', encoding='iso-8859-1') as f:\n",
    "        for line in f:\n",
    "            values = line.split(\" +++$+++ \")\n",
    "\n",
    "            # Extract fields\n",
    "            conversationObj = {}\n",
    "            for i, field in enumerate(fields):\n",
    "                conversationObj[field] = values[i]\n",
    "\n",
    "\n",
    "            conversations[conversationObj['movieID']] = conversationObj\n",
    "\n",
    "    return conversations\n",
    "\n",
    "# Usage example\n",
    "conversation_fields_to_extract = ['characterID1', 'characterID2', 'movieID', 'utteranceIDs']\n",
    "conversation_file_path = dataset_dir + \"/movie_conversations.txt\"\n",
    "conversation_data = loadConversations(conversation_file_path, conversation_fields_to_extract)"
   ]
  },
  {
   "cell_type": "code",
   "execution_count": 87,
   "metadata": {
    "id": "OkwfW7ZYIK50"
   },
   "outputs": [],
   "source": [
    "#@title 2.4: Load the title_data\n",
    "def loadMovieTitlesMetadata(filePath, fields):\n",
    "    \"\"\"\n",
    "    Args:\n",
    "        filePath (str): full path to the movie titles metadata file to load\n",
    "        fields (set<str>): fields to extract\n",
    "    Return:\n",
    "        dict<dict<str>>: the extracted fields for each movie title\n",
    "    \"\"\"\n",
    "    movie_titles = {}\n",
    "\n",
    "    with open(filePath, 'r', encoding='iso-8859-1') as f:\n",
    "        for line in f:\n",
    "            values = line.split(\" +++$+++ \")\n",
    "\n",
    "            # Extract fields\n",
    "            movieTitleObj = {}\n",
    "            for i, field in enumerate(fields):\n",
    "                movieTitleObj[field] = values[i]\n",
    "\n",
    "            movie_titles[movieTitleObj['movieID']] = movieTitleObj\n",
    "\n",
    "    return movie_titles\n",
    "\n",
    "# Usage example\n",
    "movie_title_fields_to_extract = ['movieID', 'movieTitle', 'releaseYear', 'imdbRating', 'numVotes', 'genres']\n",
    "movie_title_file_path = dataset_dir + \"/movie_titles_metadata.txt\"\n",
    "movie_title_data = loadMovieTitlesMetadata(movie_title_file_path, movie_title_fields_to_extract)"
   ]
  },
  {
   "cell_type": "code",
   "execution_count": 88,
   "metadata": {
    "id": "p7FnOhJDQf8l"
   },
   "outputs": [],
   "source": [
    "#@title 2.5: Load the url_data\n",
    "def loadRawScriptUrls(filePath, fields):\n",
    "    \"\"\"\n",
    "    Args:\n",
    "        filePath (str): full path to the raw script URLs file to load\n",
    "        fields (list<str>): fields to extract\n",
    "    Return:\n",
    "        dict<str, dict<str>>: a dictionary with movieID as keys and dictionaries with field values as values\n",
    "    \"\"\"\n",
    "    urls = {}\n",
    "\n",
    "    with open(filePath, 'r', encoding='iso-8859-1') as f:\n",
    "        for line in f:\n",
    "            values = line.split(\" +++$+++ \")\n",
    "\n",
    "            # Extract fields\n",
    "            loadRawScriptUrls = {}\n",
    "            for i, field in enumerate(fields):\n",
    "                loadRawScriptUrls[field] = values[i]\n",
    "\n",
    "            urls[loadRawScriptUrls['movieID']] = loadRawScriptUrls\n",
    "\n",
    "    return urls\n",
    "\n",
    "# Usage example\n",
    "raw_script_urls_fields_to_extract = ['movieID', 'scriptURL', 'url']\n",
    "raw_script_urls_file_path = dataset_dir + \"/raw_script_urls.txt\"\n",
    "script_urls_data = loadRawScriptUrls(raw_script_urls_file_path, raw_script_urls_fields_to_extract)\n"
   ]
  },
  {
   "cell_type": "code",
   "execution_count": 91,
   "metadata": {
    "id": "cwxIFM3xIVER"
   },
   "outputs": [],
   "source": [
    "#@title 3: Convert dictionaries/arrays to DataFrames\n",
    "df_lines = pd.DataFrame.from_dict(lines_data, orient='index')\n",
    "\n",
    "df_characters = pd.DataFrame.from_dict(character_data, orient='index')\n",
    "gender_map = {\n",
    "    'f': 'female',\n",
    "    'm': 'male',\n",
    "    '?': 'unknown'\n",
    "}\n",
    "df_characters['gender'] = df_characters['gender'].map(gender_map)\n",
    "\n",
    "df_conversations = pd.DataFrame.from_dict(conversation_data, orient='index')\n",
    "\n",
    "df_movie_titles = pd.DataFrame.from_dict(movie_title_data, orient='index')\n",
    "df_movie_titles['genres'] = df_movie_titles['genres'].apply(ast.literal_eval)\n",
    "\n",
    "df_script_urls =  pd.DataFrame.from_dict(script_urls_data, orient='index')\n"
   ]
  },
  {
   "cell_type": "markdown",
   "metadata": {},
   "source": [
    "# 4: Generate the Train dataset"
   ]
  },
  {
   "cell_type": "markdown",
   "metadata": {},
   "source": [
    "### Example text data: \n",
    "\n",
    "```Below is an instruction that describes a task. Write a response that appropriately completes the request. ### Instruction: Give three tips for staying healthy. ### Response: 1.Eat a balanced diet and make sure to include plenty of fruits and vegetables. 2. Exercise regularly to keep your body active and strong. 3. Get enough sleep and maintain a consistent sleep schedule.```"
   ]
  },
  {
   "cell_type": "code",
   "execution_count": 96,
   "metadata": {},
   "outputs": [],
   "source": [
    "# Initialize an empty train list\n",
    "questions_list = []\n",
    "\n",
    "def print_last_question():\n",
    "    for question in questions_list[-1:]:\n",
    "        print(question)\n",
    "\n",
    "def add_question(question, answer):\n",
    "    template = \"\"\"\n",
    "    <s>[INST] <<SYS>>\n",
    "    Below is an instruction that describes a movie related question. Write a response that appropriately answers the question using the Cornell Movie-Dialog Corpus.\n",
    "    <</SYS>>\n",
    "    \n",
    "    {}\n",
    "    [/INST]\n",
    "    \n",
    "    According to the Cornell Movie-Dialog Corpus, {}\n",
    "    </s>\n",
    "    \"\"\"\n",
    "    result = template.format(question, answer)\n",
    "    questions_list.append(result)"
   ]
  },
  {
   "cell_type": "markdown",
   "metadata": {},
   "source": [
    "### 4.1: When was movie released?"
   ]
  },
  {
   "cell_type": "code",
   "execution_count": 97,
   "metadata": {},
   "outputs": [
    {
     "name": "stdout",
     "output_type": "stream",
     "text": [
      "\n",
      "    <s>[INST] <<SYS>>\n",
      "    Below is an instruction that describes a movie related question. Write a response that appropriately answers the question using the Cornell Movie-Dialog Corpus.\n",
      "    <</SYS>>\n",
      "    \n",
      "    When was zulu dawn released?\n",
      "    [/INST]\n",
      "    \n",
      "    According to the Cornell Movie-Dialog Corpus, zulu dawn was released in 1979\n",
      "    </s>\n",
      "    \n"
     ]
    }
   ],
   "source": [
    "for title, year in zip(df_movie_titles[\"movieTitle\"], df_movie_titles[\"releaseYear\"]):\n",
    "    question = f\"When was {title} released?\"\n",
    "    answer = f\"{title} was released in {year}\"\n",
    "    add_question(question, answer)\n",
    "\n",
    "print_last_question();"
   ]
  },
  {
   "cell_type": "markdown",
   "metadata": {},
   "source": [
    "### 4.2: What is the rating on the movie {}?"
   ]
  },
  {
   "cell_type": "code",
   "execution_count": 98,
   "metadata": {},
   "outputs": [
    {
     "name": "stdout",
     "output_type": "stream",
     "text": [
      "\n",
      "    <s>[INST] <<SYS>>\n",
      "    Below is an instruction that describes a movie related question. Write a response that appropriately answers the question using the Cornell Movie-Dialog Corpus.\n",
      "    <</SYS>>\n",
      "    \n",
      "    what is the rating on the movie zulu dawn?\n",
      "    [/INST]\n",
      "    \n",
      "    According to the Cornell Movie-Dialog Corpus, The rating on zulu dawn is 6.40\n",
      "    </s>\n",
      "    \n"
     ]
    }
   ],
   "source": [
    "for title, imdb in zip(df_movie_titles[\"movieTitle\"], df_movie_titles[\"imdbRating\"]):\n",
    "    question = f\"what is the rating on the movie {title}?\"\n",
    "    answer = f\"The rating on {title} is {imdb}\"\n",
    "    add_question(question, answer)\n",
    "\n",
    "\n",
    "print_last_question();"
   ]
  },
  {
   "cell_type": "markdown",
   "metadata": {},
   "source": [
    "### 4.3: What is the genres on the movie {}?"
   ]
  },
  {
   "cell_type": "code",
   "execution_count": 99,
   "metadata": {},
   "outputs": [
    {
     "name": "stdout",
     "output_type": "stream",
     "text": [
      "\n",
      "    <s>[INST] <<SYS>>\n",
      "    Below is an instruction that describes a movie related question. Write a response that appropriately answers the question using the Cornell Movie-Dialog Corpus.\n",
      "    <</SYS>>\n",
      "    \n",
      "    what is the genre of the movie zulu dawn?\n",
      "    [/INST]\n",
      "    \n",
      "    According to the Cornell Movie-Dialog Corpus, The genres for the movie zulu dawn are action, adventure, drama, history, and war\n",
      "    </s>\n",
      "    \n"
     ]
    }
   ],
   "source": [
    "for title, genres in zip(df_movie_titles[\"movieTitle\"], df_movie_titles[\"genres\"]):\n",
    "    # Convert list of genres to a comma-separated string\n",
    "    if len(genres) > 1:\n",
    "        genres_str = ', '.join(genres[:-2]) + ', ' + genres[-2] + ', and ' + genres[-1]\n",
    "    elif (len(genres) == 1):\n",
    "        genres_str = genres[0]\n",
    "    else:\n",
    "        genres_str = \"unknown\"\n",
    "    \n",
    "    question = f\"what is the genre of the movie {title}?\"\n",
    "    answer = f\"The genres for the movie {title} are {genres_str}\"\n",
    "    add_question(question, answer)\n",
    "\n",
    "print_last_question();\n"
   ]
  },
  {
   "cell_type": "markdown",
   "metadata": {},
   "source": [
    "### 4.4: What gender is the character {} in the movie {}?"
   ]
  },
  {
   "cell_type": "code",
   "execution_count": 100,
   "metadata": {},
   "outputs": [
    {
     "name": "stdout",
     "output_type": "stream",
     "text": [
      "\n",
      "    <s>[INST] <<SYS>>\n",
      "    Below is an instruction that describes a movie related question. Write a response that appropriately answers the question using the Cornell Movie-Dialog Corpus.\n",
      "    <</SYS>>\n",
      "    \n",
      "    what gender is the character VEREKER in the movie zulu dawn?\n",
      "    [/INST]\n",
      "    \n",
      "    According to the Cornell Movie-Dialog Corpus, VEREKER's gender is unknown\n",
      "    </s>\n",
      "    \n"
     ]
    }
   ],
   "source": [
    "# what gender is the character {} in the movie {}? \n",
    "\n",
    "for character, title, gender in zip(df_characters[\"characterName\"], df_characters[\"movieTitle\"], df_characters[\"gender\"]):\n",
    "    question = f\"what gender is the character {character} in the movie {title}?\"\n",
    "    answer = f\"{character}'s gender is {gender}\"\n",
    "    add_question(question, answer)\n",
    "\n",
    "print_last_question();"
   ]
  },
  {
   "cell_type": "markdown",
   "metadata": {},
   "source": [
    "### 4.5: Do you have the full script for the movie {}?"
   ]
  },
  {
   "cell_type": "code",
   "execution_count": 101,
   "metadata": {},
   "outputs": [
    {
     "name": "stdout",
     "output_type": "stream",
     "text": [
      "\n",
      "    <s>[INST] <<SYS>>\n",
      "    Below is an instruction that describes a movie related question. Write a response that appropriately answers the question using the Cornell Movie-Dialog Corpus.\n",
      "    <</SYS>>\n",
      "    \n",
      "    do you have the full script for the movie zulu dawn?\n",
      "    [/INST]\n",
      "    \n",
      "    According to the Cornell Movie-Dialog Corpus, sure you can find it here http://www.aellea.com/script/zuludawn.txt\n",
      "\n",
      "    </s>\n",
      "    \n"
     ]
    }
   ],
   "source": [
    "# do you have the full script for the movie {}? \n",
    "\n",
    "for title, url in zip(df_script_urls[\"scriptURL\"], df_script_urls[\"url\"]):\n",
    "    question = f\"do you have the full script for the movie {title}?\"\n",
    "    answer = f\"sure you can find it here {url}\"\n",
    "    add_question(question, answer)\n",
    "\n",
    "print_last_question();"
   ]
  },
  {
   "cell_type": "markdown",
   "metadata": {},
   "source": [
    "### 4.6: What is the highest rated movies in {}?"
   ]
  },
  {
   "cell_type": "code",
   "execution_count": 102,
   "metadata": {},
   "outputs": [
    {
     "name": "stdout",
     "output_type": "stream",
     "text": [
      "List of possible years: ['1927', '1931', '1932', '1933', '1934', '1936', '1937', '1939', '1940', '1941', '1942', '1943', '1944', '1945', '1946', '1949', '1950', '1953', '1954', '1955', '1956', '1957', '1958', '1959', '1960', '1961', '1963', '1964', '1965', '1966', '1967', '1968', '1969', '1970', '1971', '1972', '1973', '1974', '1975', '1976', '1977', '1978', '1979', '1980', '1981', '1982', '1983', '1984', '1985', '1986', '1987', '1988', '1989', '1990', '1991', '1992', '1993', '1994', '1995', '1996', '1997', '1998', '1999', '2000', '2001', '2002', '2003', '2004', '2005', '2006', '2007', '2008', '2009', '2010']\n",
      "\n",
      "    <s>[INST] <<SYS>>\n",
      "    Below is an instruction that describes a movie related question. Write a response that appropriately answers the question using the Cornell Movie-Dialog Corpus.\n",
      "    <</SYS>>\n",
      "    \n",
      "    what is the highest rated movie in 2010?\n",
      "    [/INST]\n",
      "    \n",
      "    According to the Cornell Movie-Dialog Corpus, the highest rated movie in 2010 is airplane ii: the sequel with an IMDb rating of 8.30 from 9 votes\n",
      "    </s>\n",
      "    \n"
     ]
    }
   ],
   "source": [
    "# What are the highest rated movies of {}?\n",
    "\n",
    "# Get list of possible years\n",
    "poss_years = []\n",
    "for year in zip(df_movie_titles[\"releaseYear\"]):\n",
    "    # Remove non-numeric characters\n",
    "    year = re.sub('[^0-9]','', str(year))\n",
    "    \n",
    "    # Add the year to the list if it's not in it yet\n",
    "    if year in poss_years:\n",
    "        continue\n",
    "    else:\n",
    "        poss_years.append(year)\n",
    "        \n",
    "poss_years.sort()\n",
    "print(f\"List of possible years: {poss_years}\")\n",
    "\n",
    "def getRating(item):\n",
    "    return item['rating']\n",
    "\n",
    "for targetyear in poss_years:\n",
    "    \n",
    "    titles_list = []\n",
    "    \n",
    "    for year, title, imdb, votes in zip(df_movie_titles[\"releaseYear\"], df_characters[\"movieTitle\"], df_movie_titles[\"imdbRating\"], df_movie_titles['numVotes']):\n",
    "        # Get list of movies from that year\n",
    "        if year == targetyear:\n",
    "            titles_list.append({'title': title, 'rating': imdb, 'votes': votes})\n",
    "    \n",
    "    # Grab the movie at the top of list (sorted by rating)\n",
    "    titles_list.sort(reverse=True, key=getRating)\n",
    "    top_title = str(titles_list[0]['title'])\n",
    "    top_rating = str(titles_list[0]['rating'])\n",
    "    top_votes = str(titles_list[0]['votes'])\n",
    "    \n",
    "    \n",
    "    question = f\"what is the highest rated movie in {targetyear}?\"\n",
    "    answer = f\"the highest rated movie in {targetyear} is {top_title} with an IMDb rating of {top_rating} from {top_votes} votes\"    \n",
    "    add_question(question, answer)\n",
    "\n",
    "print_last_question();"
   ]
  },
  {
   "cell_type": "markdown",
   "metadata": {},
   "source": [
    "### 4.7: How many movies were released in {}?"
   ]
  },
  {
   "cell_type": "code",
   "execution_count": 103,
   "metadata": {},
   "outputs": [
    {
     "name": "stdout",
     "output_type": "stream",
     "text": [
      "\n",
      "    <s>[INST] <<SYS>>\n",
      "    Below is an instruction that describes a movie related question. Write a response that appropriately answers the question using the Cornell Movie-Dialog Corpus.\n",
      "    <</SYS>>\n",
      "    \n",
      "    how many movies were released in 2010?\n",
      "    [/INST]\n",
      "    \n",
      "    According to the Cornell Movie-Dialog Corpus, there were 1 movies released in 2010\n",
      "    </s>\n",
      "    \n"
     ]
    }
   ],
   "source": [
    "# How many movies were released in {}?\n",
    "\n",
    "template = \"\"\"\n",
    "Below is an instruction that describes a movie related question. Write a response that appropriately answers the question.\n",
    "\n",
    "### Instruction:\n",
    "how many movies were released in {}?\n",
    "\n",
    "### Response:\n",
    "there were {} movies released in {}\n",
    "\"\"\"\n",
    "\n",
    "# Get list of possible years\n",
    "# Did this in previous code. See \"What is the highest rated movie in {}?\"\n",
    "# print(f\"List of possible years: {poss_years}\")\n",
    "\n",
    "for targetyear in poss_years:\n",
    "    \n",
    "    num_movies = 0\n",
    "    \n",
    "    for year in df_movie_titles[\"releaseYear\"]:\n",
    "        # Get list of movies from that year\n",
    "        if year == targetyear:\n",
    "            num_movies += 1\n",
    "    \n",
    "    num_movies = len(df_movie_titles[df_movie_titles[\"releaseYear\"] == targetyear])\n",
    "    \n",
    "    question = f\"how many movies were released in {targetyear}?\"\n",
    "    answer = f\"there were {num_movies} movies released in {targetyear}\"\n",
    "    add_question(question, answer)\n",
    "\n",
    "\n",
    "print_last_question();"
   ]
  },
  {
   "cell_type": "code",
   "execution_count": 104,
   "metadata": {},
   "outputs": [],
   "source": [
    "#@title 5: Store the csv for training\n",
    "df_from_list = pd.DataFrame({'text': questions_list})\n",
    "df_from_list.to_csv(train_dir + \"train.csv\", index=True)"
   ]
  }
 ],
 "metadata": {
  "accelerator": "TPU",
  "colab": {
   "machine_shape": "hm",
   "provenance": []
  },
  "kernelspec": {
   "display_name": "Python 3 (ipykernel)",
   "language": "python",
   "name": "python3"
  },
  "language_info": {
   "codemirror_mode": {
    "name": "ipython",
    "version": 3
   },
   "file_extension": ".py",
   "mimetype": "text/x-python",
   "name": "python",
   "nbconvert_exporter": "python",
   "pygments_lexer": "ipython3",
   "version": "3.10.12"
  }
 },
 "nbformat": 4,
 "nbformat_minor": 4
}
