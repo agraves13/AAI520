{
  "cells": [
    {
      "cell_type": "markdown",
      "metadata": {
        "id": "k7Ep-hobDS32"
      },
      "source": [
        "#############################################################################################\n",
        "## **AAI-520**                                                                                 #\n",
        "## **Final Project - Group 6**                                                                 #\n",
        "## **Chatbot for Movie Info utilizing the Cornell Movie Dialogs Corpus**        \n",
        "\n",
        "This Jupyter Notebook is used to generate the training dataset that will be used to the train the LLM ChatBot\n",
        "\n",
        "#############################################################################################"
      ]
    },
    {
      "cell_type": "code",
      "execution_count": 73,
      "metadata": {
        "id": "XGfggB3YDN7K"
      },
      "outputs": [],
      "source": [
        "#@title 1: Load the related Libraries\n",
        "from __future__ import absolute_import, division, print_function, unicode_literals\n",
        "import argparse\n",
        "import codecs\n",
        "import csv\n",
        "import os\n",
        "import pandas as pd\n",
        "import ast"
      ]
    },
    {
      "cell_type": "markdown",
      "metadata": {
        "id": "N0GSCXsKXsMh"
      },
      "source": [
        "##2: Load Movie Data Corpus"
      ]
    },
    {
      "cell_type": "code",
      "execution_count": 74,
      "metadata": {},
      "outputs": [],
      "source": [
        "is_on_colab = False\n",
        "\n",
        "google_drive = \"/content/drive/MyDrive/AAI-520/Final/Data\"\n",
        "local_dir = \"./Dataset/Cornell_Movie_Dialog_Corpus/\"\n",
        "\n",
        "dataset_dir = local_dir\n",
        "if (is_on_colab):\n",
        "    dataset_dir = google_drive\n",
        "\n",
        "train_dir = dataset_dir + \"../Train/\"\n",
        "if not os.path.exists(train_dir):\n",
        "    os.makedirs(train_dir)"
      ]
    },
    {
      "cell_type": "code",
      "execution_count": 75,
      "metadata": {
        "id": "y3awleOxH_d-"
      },
      "outputs": [],
      "source": [
        "#@title 2.1: Load line_data\n",
        "#Load the Line file\n",
        "\n",
        "def loadLines(filePath, fields):\n",
        "    \"\"\"\n",
        "    Args:\n",
        "        filePath (str): full path to the file to load\n",
        "        fields (set<str>): fields to extract\n",
        "    Return:\n",
        "        dict<dict<str>>: the extracted fields for each line\n",
        "    \"\"\"\n",
        "    lines = {}\n",
        "\n",
        "    with open(filePath, 'r', encoding='iso-8859-1') as f:\n",
        "        for line in f:\n",
        "            values = line.split(\" +++$+++ \")\n",
        "\n",
        "            # Extract fields\n",
        "            lineObj = {}\n",
        "            for i, field in enumerate(fields):\n",
        "                lineObj[field] = values[i]\n",
        "\n",
        "            lines[lineObj['lineID']] = lineObj\n",
        "\n",
        "    return lines\n",
        "\n",
        "# Usage example\n",
        "fields_to_extract = ['lineID', 'characterID', 'movieID', 'character', 'text']\n",
        "file_path = dataset_dir + \"/movie_lines.txt\"\n",
        "lines_data = loadLines(file_path, fields_to_extract)"
      ]
    },
    {
      "cell_type": "code",
      "execution_count": 76,
      "metadata": {
        "id": "UkR7NeWbIDN_"
      },
      "outputs": [],
      "source": [
        "#@title 2.2: Load the charachter_data\n",
        "def loadCharacterMetadata(filePath, fields):\n",
        "    \"\"\"\n",
        "    Args:\n",
        "        filePath (str): full path to the character metadata file to load\n",
        "        fields (set<str>): fields to extract\n",
        "    Return:\n",
        "        dict<dict<str>>: the extracted fields for each character\n",
        "    \"\"\"\n",
        "    characters = {}\n",
        "\n",
        "    with open(filePath, 'r', encoding='iso-8859-1') as f:\n",
        "        for line in f:\n",
        "            values = line.split(\" +++$+++ \")\n",
        "\n",
        "            # Extract fields\n",
        "            characterObj = {}\n",
        "            for i, field in enumerate(fields):\n",
        "                characterObj[field] = values[i]\n",
        "\n",
        "            characters[characterObj['characterID']] = characterObj\n",
        "\n",
        "    return characters\n",
        "\n",
        "# Usage example\n",
        "character_fields_to_extract = ['characterID', 'characterName', 'movieID', 'movieTitle', 'gender', 'position']\n",
        "character_file_path = dataset_dir + \"/movie_characters_metadata.txt\"\n",
        "character_data = loadCharacterMetadata(character_file_path, character_fields_to_extract)"
      ]
    },
    {
      "cell_type": "code",
      "execution_count": 77,
      "metadata": {
        "id": "8CRg8hbSIHVC"
      },
      "outputs": [],
      "source": [
        "#@title 2.3: Load conversation_data\n",
        "def loadConversations(filePath, fields):\n",
        "    \"\"\"\n",
        "    Args:\n",
        "        filePath (str): full path to the conversations file to load\n",
        "        fields (set<str>): fields to extract\n",
        "    Return:\n",
        "        list<dict<str>>: a list of dictionaries representing conversations\n",
        "    \"\"\"\n",
        "\n",
        "    conversations = {}\n",
        "\n",
        "    with open(filePath, 'r', encoding='iso-8859-1') as f:\n",
        "        for line in f:\n",
        "            values = line.split(\" +++$+++ \")\n",
        "\n",
        "            # Extract fields\n",
        "            conversationObj = {}\n",
        "            for i, field in enumerate(fields):\n",
        "                conversationObj[field] = values[i]\n",
        "\n",
        "\n",
        "            conversations[conversationObj['movieID']] = conversationObj\n",
        "\n",
        "    return conversations\n",
        "\n",
        "# Usage example\n",
        "conversation_fields_to_extract = ['characterID1', 'characterID2', 'movieID', 'utteranceIDs']\n",
        "conversation_file_path = dataset_dir + \"/movie_conversations.txt\"\n",
        "conversation_data = loadConversations(conversation_file_path, conversation_fields_to_extract)"
      ]
    },
    {
      "cell_type": "code",
      "execution_count": 78,
      "metadata": {
        "id": "OkwfW7ZYIK50"
      },
      "outputs": [],
      "source": [
        "#@title 2.4: Load the title_data\n",
        "def loadMovieTitlesMetadata(filePath, fields):\n",
        "    \"\"\"\n",
        "    Args:\n",
        "        filePath (str): full path to the movie titles metadata file to load\n",
        "        fields (set<str>): fields to extract\n",
        "    Return:\n",
        "        dict<dict<str>>: the extracted fields for each movie title\n",
        "    \"\"\"\n",
        "    movie_titles = {}\n",
        "\n",
        "    with open(filePath, 'r', encoding='iso-8859-1') as f:\n",
        "        for line in f:\n",
        "            values = line.split(\" +++$+++ \")\n",
        "\n",
        "            # Extract fields\n",
        "            movieTitleObj = {}\n",
        "            for i, field in enumerate(fields):\n",
        "                movieTitleObj[field] = values[i]\n",
        "\n",
        "            movie_titles[movieTitleObj['movieID']] = movieTitleObj\n",
        "\n",
        "    return movie_titles\n",
        "\n",
        "# Usage example\n",
        "movie_title_fields_to_extract = ['movieID', 'movieTitle', 'releaseYear', 'imdbRating', 'numVotes', 'genres']\n",
        "movie_title_file_path = dataset_dir + \"/movie_titles_metadata.txt\"\n",
        "movie_title_data = loadMovieTitlesMetadata(movie_title_file_path, movie_title_fields_to_extract)"
      ]
    },
    {
      "cell_type": "code",
      "execution_count": 79,
      "metadata": {
        "id": "p7FnOhJDQf8l"
      },
      "outputs": [],
      "source": [
        "#@title 2.5: Load the url_data\n",
        "def loadRawScriptUrls(filePath, fields):\n",
        "    \"\"\"\n",
        "    Args:\n",
        "        filePath (str): full path to the raw script URLs file to load\n",
        "        fields (list<str>): fields to extract\n",
        "    Return:\n",
        "        dict<str, dict<str>>: a dictionary with movieID as keys and dictionaries with field values as values\n",
        "    \"\"\"\n",
        "    urls = {}\n",
        "\n",
        "    with open(filePath, 'r', encoding='iso-8859-1') as f:\n",
        "        for line in f:\n",
        "            values = line.split(\" +++$+++ \")\n",
        "\n",
        "            # Extract fields\n",
        "            loadRawScriptUrls = {}\n",
        "            for i, field in enumerate(fields):\n",
        "                loadRawScriptUrls[field] = values[i]\n",
        "\n",
        "            urls[loadRawScriptUrls['movieID']] = loadRawScriptUrls\n",
        "\n",
        "    return urls\n",
        "\n",
        "# Usage example\n",
        "raw_script_urls_fields_to_extract = ['movieID', 'scriptURL', 'url']\n",
        "raw_script_urls_file_path = dataset_dir + \"/raw_script_urls.txt\"\n",
        "script_urls_data = loadRawScriptUrls(raw_script_urls_file_path, raw_script_urls_fields_to_extract)\n"
      ]
    },
    {
      "cell_type": "code",
      "execution_count": 80,
      "metadata": {
        "id": "pPoaZnUzIRXf"
      },
      "outputs": [],
      "source": [
        "#@title 2.6: Verify the loading of the data (replace array name and fields as needed)\n",
        "# Print some sample movie title data to check if it was loaded\n",
        "#for movie_id, movie_info in movie_title_data.items():\n",
        "    #print(f\"Movie ID: {movie_info['movieID']}\")\n",
        "    #print(f\"Movie Title: {movie_info['movieTitle']}\")\n",
        "    #print(f\"Release Year: {movie_info['releaseYear']}\")\n",
        "    #print(f\"IMDB Rating: {movie_info['imdbRating']}\")\n",
        "    #print(f\"Number of Votes: {movie_info['numVotes']}\")\n",
        "    #print(\"\\n\")"
      ]
    },
    {
      "cell_type": "code",
      "execution_count": 81,
      "metadata": {
        "id": "sNLBj-xrRB7e"
      },
      "outputs": [],
      "source": [
        "#@title 2.7: Verify the loading of the url data\n",
        "#for movie_id, url_info in script_urls_data.items():\n",
        "    #print(f\"Movie ID: {url_info['movieID']}\")\n",
        "    #print(f\"Movie Title: {url_info['scriptURL']}\")\n",
        "    #print(f\"url: {url_info['url']}\")\n",
        "    #print(\"\\n\")"
      ]
    },
    {
      "cell_type": "code",
      "execution_count": 82,
      "metadata": {
        "id": "cwxIFM3xIVER"
      },
      "outputs": [],
      "source": [
        "#@title 3: Convert dictionaries/arrays to DataFrames\n",
        "df_lines = pd.DataFrame.from_dict(lines_data, orient='index')\n",
        "\n",
        "df_characters = pd.DataFrame.from_dict(character_data, orient='index')\n",
        "gender_map = {\n",
        "    'f': 'female',\n",
        "    'm': 'male',\n",
        "    '?': 'unknown'\n",
        "}\n",
        "df_characters['gender'] = df_characters['gender'].map(gender_map)\n",
        "\n",
        "df_conversations = pd.DataFrame.from_dict(conversation_data, orient='index')\n",
        "\n",
        "df_movie_titles = pd.DataFrame.from_dict(movie_title_data, orient='index')\n",
        "df_movie_titles['genres'] = df_movie_titles['genres'].apply(ast.literal_eval)\n",
        "\n",
        "df_script_urls =  pd.DataFrame.from_dict(script_urls_data, orient='index')\n"
      ]
    },
    {
      "cell_type": "code",
      "execution_count": 83,
      "metadata": {
        "id": "FTMhtxP7Stmg"
      },
      "outputs": [],
      "source": [
        "#@title 3.1: Verify df (change names as needed)\n",
        "#df_script_urls.head()"
      ]
    },
    {
      "cell_type": "code",
      "execution_count": 84,
      "metadata": {
        "id": "YY4h4Hz9IY6z"
      },
      "outputs": [],
      "source": [
        "#@title 4: Merge DataFrames based on Movie ID\n",
        "merged_data = df_lines.merge(df_characters, on='movieID', how='inner')\n",
        "merged_data = merged_data.merge(df_conversations, on='movieID', how='inner')\n",
        "merged_data = merged_data.merge(df_movie_titles, on='movieID', how='inner')\n",
        "merged_data = merged_data.merge(df_script_urls, on='movieID', how='inner')\n",
        "#drop duplicate fields\n",
        "merged_data = merged_data.drop(\"movieTitle_y\", axis=1)\n",
        "merged_data = merged_data.drop(\"scriptURL\", axis=1)"
      ]
    },
    {
      "cell_type": "code",
      "execution_count": 85,
      "metadata": {
        "colab": {
          "base_uri": "https://localhost:8080/",
          "height": 1000
        },
        "id": "jXGOAJMrSqeC",
        "outputId": "c90fdbdb-386a-4660-a60e-61bd505e2b89"
      },
      "outputs": [
        {
          "data": {
            "text/html": [
              "<div>\n",
              "<style scoped>\n",
              "    .dataframe tbody tr th:only-of-type {\n",
              "        vertical-align: middle;\n",
              "    }\n",
              "\n",
              "    .dataframe tbody tr th {\n",
              "        vertical-align: top;\n",
              "    }\n",
              "\n",
              "    .dataframe thead th {\n",
              "        text-align: right;\n",
              "    }\n",
              "</style>\n",
              "<table border=\"1\" class=\"dataframe\">\n",
              "  <thead>\n",
              "    <tr style=\"text-align: right;\">\n",
              "      <th></th>\n",
              "      <th>lineID</th>\n",
              "      <th>characterID_x</th>\n",
              "      <th>movieID</th>\n",
              "      <th>character</th>\n",
              "      <th>text</th>\n",
              "      <th>characterID_y</th>\n",
              "      <th>characterName</th>\n",
              "      <th>movieTitle_x</th>\n",
              "      <th>gender</th>\n",
              "      <th>position</th>\n",
              "      <th>characterID1</th>\n",
              "      <th>characterID2</th>\n",
              "      <th>utteranceIDs</th>\n",
              "      <th>releaseYear</th>\n",
              "      <th>imdbRating</th>\n",
              "      <th>numVotes</th>\n",
              "      <th>genres</th>\n",
              "      <th>url</th>\n",
              "    </tr>\n",
              "  </thead>\n",
              "  <tbody>\n",
              "    <tr>\n",
              "      <th>0</th>\n",
              "      <td>L1045</td>\n",
              "      <td>u0</td>\n",
              "      <td>m0</td>\n",
              "      <td>BIANCA</td>\n",
              "      <td>They do not!\\n</td>\n",
              "      <td>u0</td>\n",
              "      <td>BIANCA</td>\n",
              "      <td>10 things i hate about you</td>\n",
              "      <td>female</td>\n",
              "      <td>4\\n</td>\n",
              "      <td>u10</td>\n",
              "      <td>u11</td>\n",
              "      <td>['L929', 'L930', 'L931', 'L932', 'L933']\\n</td>\n",
              "      <td>1999</td>\n",
              "      <td>6.90</td>\n",
              "      <td>62847</td>\n",
              "      <td>[comedy, romance]</td>\n",
              "      <td>http://www.dailyscript.com/scripts/10Things.ht...</td>\n",
              "    </tr>\n",
              "    <tr>\n",
              "      <th>1</th>\n",
              "      <td>L1045</td>\n",
              "      <td>u0</td>\n",
              "      <td>m0</td>\n",
              "      <td>BIANCA</td>\n",
              "      <td>They do not!\\n</td>\n",
              "      <td>u1</td>\n",
              "      <td>BRUCE</td>\n",
              "      <td>10 things i hate about you</td>\n",
              "      <td>unknown</td>\n",
              "      <td>?\\n</td>\n",
              "      <td>u10</td>\n",
              "      <td>u11</td>\n",
              "      <td>['L929', 'L930', 'L931', 'L932', 'L933']\\n</td>\n",
              "      <td>1999</td>\n",
              "      <td>6.90</td>\n",
              "      <td>62847</td>\n",
              "      <td>[comedy, romance]</td>\n",
              "      <td>http://www.dailyscript.com/scripts/10Things.ht...</td>\n",
              "    </tr>\n",
              "    <tr>\n",
              "      <th>2</th>\n",
              "      <td>L1045</td>\n",
              "      <td>u0</td>\n",
              "      <td>m0</td>\n",
              "      <td>BIANCA</td>\n",
              "      <td>They do not!\\n</td>\n",
              "      <td>u2</td>\n",
              "      <td>CAMERON</td>\n",
              "      <td>10 things i hate about you</td>\n",
              "      <td>male</td>\n",
              "      <td>3\\n</td>\n",
              "      <td>u10</td>\n",
              "      <td>u11</td>\n",
              "      <td>['L929', 'L930', 'L931', 'L932', 'L933']\\n</td>\n",
              "      <td>1999</td>\n",
              "      <td>6.90</td>\n",
              "      <td>62847</td>\n",
              "      <td>[comedy, romance]</td>\n",
              "      <td>http://www.dailyscript.com/scripts/10Things.ht...</td>\n",
              "    </tr>\n",
              "    <tr>\n",
              "      <th>3</th>\n",
              "      <td>L1045</td>\n",
              "      <td>u0</td>\n",
              "      <td>m0</td>\n",
              "      <td>BIANCA</td>\n",
              "      <td>They do not!\\n</td>\n",
              "      <td>u3</td>\n",
              "      <td>CHASTITY</td>\n",
              "      <td>10 things i hate about you</td>\n",
              "      <td>unknown</td>\n",
              "      <td>?\\n</td>\n",
              "      <td>u10</td>\n",
              "      <td>u11</td>\n",
              "      <td>['L929', 'L930', 'L931', 'L932', 'L933']\\n</td>\n",
              "      <td>1999</td>\n",
              "      <td>6.90</td>\n",
              "      <td>62847</td>\n",
              "      <td>[comedy, romance]</td>\n",
              "      <td>http://www.dailyscript.com/scripts/10Things.ht...</td>\n",
              "    </tr>\n",
              "    <tr>\n",
              "      <th>4</th>\n",
              "      <td>L1045</td>\n",
              "      <td>u0</td>\n",
              "      <td>m0</td>\n",
              "      <td>BIANCA</td>\n",
              "      <td>They do not!\\n</td>\n",
              "      <td>u4</td>\n",
              "      <td>JOEY</td>\n",
              "      <td>10 things i hate about you</td>\n",
              "      <td>male</td>\n",
              "      <td>6\\n</td>\n",
              "      <td>u10</td>\n",
              "      <td>u11</td>\n",
              "      <td>['L929', 'L930', 'L931', 'L932', 'L933']\\n</td>\n",
              "      <td>1999</td>\n",
              "      <td>6.90</td>\n",
              "      <td>62847</td>\n",
              "      <td>[comedy, romance]</td>\n",
              "      <td>http://www.dailyscript.com/scripts/10Things.ht...</td>\n",
              "    </tr>\n",
              "  </tbody>\n",
              "</table>\n",
              "</div>"
            ],
            "text/plain": [
              "  lineID characterID_x movieID character            text characterID_y  \\\n",
              "0  L1045            u0      m0    BIANCA  They do not!\\n            u0   \n",
              "1  L1045            u0      m0    BIANCA  They do not!\\n            u1   \n",
              "2  L1045            u0      m0    BIANCA  They do not!\\n            u2   \n",
              "3  L1045            u0      m0    BIANCA  They do not!\\n            u3   \n",
              "4  L1045            u0      m0    BIANCA  They do not!\\n            u4   \n",
              "\n",
              "  characterName                movieTitle_x   gender position characterID1  \\\n",
              "0        BIANCA  10 things i hate about you   female      4\\n          u10   \n",
              "1         BRUCE  10 things i hate about you  unknown      ?\\n          u10   \n",
              "2       CAMERON  10 things i hate about you     male      3\\n          u10   \n",
              "3      CHASTITY  10 things i hate about you  unknown      ?\\n          u10   \n",
              "4          JOEY  10 things i hate about you     male      6\\n          u10   \n",
              "\n",
              "  characterID2                                utteranceIDs releaseYear  \\\n",
              "0          u11  ['L929', 'L930', 'L931', 'L932', 'L933']\\n        1999   \n",
              "1          u11  ['L929', 'L930', 'L931', 'L932', 'L933']\\n        1999   \n",
              "2          u11  ['L929', 'L930', 'L931', 'L932', 'L933']\\n        1999   \n",
              "3          u11  ['L929', 'L930', 'L931', 'L932', 'L933']\\n        1999   \n",
              "4          u11  ['L929', 'L930', 'L931', 'L932', 'L933']\\n        1999   \n",
              "\n",
              "  imdbRating numVotes             genres  \\\n",
              "0       6.90    62847  [comedy, romance]   \n",
              "1       6.90    62847  [comedy, romance]   \n",
              "2       6.90    62847  [comedy, romance]   \n",
              "3       6.90    62847  [comedy, romance]   \n",
              "4       6.90    62847  [comedy, romance]   \n",
              "\n",
              "                                                 url  \n",
              "0  http://www.dailyscript.com/scripts/10Things.ht...  \n",
              "1  http://www.dailyscript.com/scripts/10Things.ht...  \n",
              "2  http://www.dailyscript.com/scripts/10Things.ht...  \n",
              "3  http://www.dailyscript.com/scripts/10Things.ht...  \n",
              "4  http://www.dailyscript.com/scripts/10Things.ht...  "
            ]
          },
          "execution_count": 85,
          "metadata": {},
          "output_type": "execute_result"
        }
      ],
      "source": [
        "#@title 4.1: Verify merged_data df\n",
        "merged_data.head(5)"
      ]
    },
    {
      "cell_type": "code",
      "execution_count": 86,
      "metadata": {
        "colab": {
          "base_uri": "https://localhost:8080/"
        },
        "id": "8NZhH8ydXfCA",
        "outputId": "744ffdac-e7ac-4dd0-fe6b-7403a0848da4"
      },
      "outputs": [
        {
          "name": "stdout",
          "output_type": "stream",
          "text": [
            "Number of Rows: 4874548\n"
          ]
        }
      ],
      "source": [
        "#@title 4.2: Verify the number of rows in the DataFrame\n",
        "num_rows = merged_data.shape[0]\n",
        "\n",
        "# Print the number of rows\n",
        "print(\"Number of Rows:\", num_rows)"
      ]
    },
    {
      "cell_type": "markdown",
      "metadata": {},
      "source": [
        "# Generate the Train dataset"
      ]
    },
    {
      "cell_type": "markdown",
      "metadata": {},
      "source": [
        "### Example text data: \n",
        "\n",
        "```Below is an instruction that describes a task. Write a response that appropriately completes the request. ### Instruction: Give three tips for staying healthy. ### Response: 1.Eat a balanced diet and make sure to include plenty of fruits and vegetables. 2. Exercise regularly to keep your body active and strong. 3. Get enough sleep and maintain a consistent sleep schedule.```"
      ]
    },
    {
      "cell_type": "code",
      "execution_count": 87,
      "metadata": {},
      "outputs": [],
      "source": [
        "# Initialize an empty train list\n",
        "questions_list = []\n",
        "\n",
        "def print_last_question():\n",
        "    for question in questions_list[-1:]:\n",
        "        print(question)"
      ]
    },
    {
      "cell_type": "markdown",
      "metadata": {},
      "source": [
        "### When was movie released?"
      ]
    },
    {
      "cell_type": "code",
      "execution_count": 88,
      "metadata": {},
      "outputs": [
        {
          "name": "stdout",
          "output_type": "stream",
          "text": [
            "\n",
            "Below is an instruction that describes a movie related question. Write a response that appropriately answers the question.\n",
            "\n",
            "### Instruction:\n",
            "When was zulu dawn released?\n",
            "\n",
            "### Response:\n",
            "zulu dawn was released in 1979\n",
            "\n"
          ]
        }
      ],
      "source": [
        "template = \"\"\"\n",
        "Below is an instruction that describes a movie related question. Write a response that appropriately answers the question.\n",
        "\n",
        "### Instruction:\n",
        "When was {} released?\n",
        "\n",
        "### Response:\n",
        "{} was released in {}\n",
        "\"\"\"\n",
        "\n",
        "for title, year in zip(df_movie_titles[\"movieTitle\"], df_movie_titles[\"releaseYear\"]):\n",
        "    formatted_text = template.format(title, title, year)\n",
        "    questions_list.append(formatted_text)\n",
        "\n",
        "print_last_question();"
      ]
    },
    {
      "cell_type": "markdown",
      "metadata": {},
      "source": [
        "# what is the rating on the movie {}?"
      ]
    },
    {
      "cell_type": "code",
      "execution_count": 89,
      "metadata": {},
      "outputs": [
        {
          "name": "stdout",
          "output_type": "stream",
          "text": [
            "\n",
            "Below is an instruction that describes a movie related question. Write a response that appropriately answers the question.\n",
            "\n",
            "### Instruction:\n",
            "what is the rating on the movie zulu dawn?\n",
            "\n",
            "### Response:\n",
            "The rating on zulu dawn is 6.40\n",
            "\n"
          ]
        }
      ],
      "source": [
        "template = \"\"\"\n",
        "Below is an instruction that describes a movie related question. Write a response that appropriately answers the question.\n",
        "\n",
        "### Instruction:\n",
        "what is the rating on the movie {}?\n",
        "\n",
        "### Response:\n",
        "The rating on {} is {}\n",
        "\"\"\"\n",
        "\n",
        "for title, imdb in zip(df_movie_titles[\"movieTitle\"], df_movie_titles[\"imdbRating\"]):\n",
        "    formatted_text = template.format(title, title, imdb)\n",
        "    questions_list.append(formatted_text)\n",
        "\n",
        "\n",
        "print_last_question();"
      ]
    },
    {
      "cell_type": "markdown",
      "metadata": {},
      "source": [
        "# what is the genres on the movie {}? "
      ]
    },
    {
      "cell_type": "code",
      "execution_count": 90,
      "metadata": {},
      "outputs": [
        {
          "name": "stdout",
          "output_type": "stream",
          "text": [
            "\n",
            "Below is an instruction that describes a movie related question. Write a response that appropriately answers the question.\n",
            "\n",
            "### Instruction:\n",
            "what is the genre of the movie zulu dawn?\n",
            "\n",
            "### Response:\n",
            "The genres for the movie zulu dawn are action, adventure, drama, history, and war\n",
            "\n"
          ]
        }
      ],
      "source": [
        "template = \"\"\"\n",
        "Below is an instruction that describes a movie related question. Write a response that appropriately answers the question.\n",
        "\n",
        "### Instruction:\n",
        "what is the genre of the movie {}?\n",
        "\n",
        "### Response:\n",
        "The genres for the movie {} are {}\n",
        "\"\"\"\n",
        "\n",
        "for title, genres in zip(df_movie_titles[\"movieTitle\"], df_movie_titles[\"genres\"]):\n",
        "    # Convert list of genres to a comma-separated string\n",
        "    if len(genres) > 1:\n",
        "        genres_str = ', '.join(genres[:-2]) + ', ' + genres[-2] + ', and ' + genres[-1]\n",
        "    elif (len(genres) == 1):\n",
        "        genres_str = genres[0]\n",
        "    else:\n",
        "        genres_str = \"unknown\"\n",
        "    formatted_text = template.format(title, title, genres_str)\n",
        "    questions_list.append(formatted_text)\n",
        "\n",
        "print_last_question();\n"
      ]
    },
    {
      "cell_type": "code",
      "execution_count": 91,
      "metadata": {},
      "outputs": [
        {
          "data": {
            "text/html": [
              "<div>\n",
              "<style scoped>\n",
              "    .dataframe tbody tr th:only-of-type {\n",
              "        vertical-align: middle;\n",
              "    }\n",
              "\n",
              "    .dataframe tbody tr th {\n",
              "        vertical-align: top;\n",
              "    }\n",
              "\n",
              "    .dataframe thead th {\n",
              "        text-align: right;\n",
              "    }\n",
              "</style>\n",
              "<table border=\"1\" class=\"dataframe\">\n",
              "  <thead>\n",
              "    <tr style=\"text-align: right;\">\n",
              "      <th></th>\n",
              "      <th>characterID</th>\n",
              "      <th>characterName</th>\n",
              "      <th>movieID</th>\n",
              "      <th>movieTitle</th>\n",
              "      <th>gender</th>\n",
              "      <th>position</th>\n",
              "    </tr>\n",
              "  </thead>\n",
              "  <tbody>\n",
              "    <tr>\n",
              "      <th>u0</th>\n",
              "      <td>u0</td>\n",
              "      <td>BIANCA</td>\n",
              "      <td>m0</td>\n",
              "      <td>10 things i hate about you</td>\n",
              "      <td>female</td>\n",
              "      <td>4\\n</td>\n",
              "    </tr>\n",
              "    <tr>\n",
              "      <th>u1</th>\n",
              "      <td>u1</td>\n",
              "      <td>BRUCE</td>\n",
              "      <td>m0</td>\n",
              "      <td>10 things i hate about you</td>\n",
              "      <td>unknown</td>\n",
              "      <td>?\\n</td>\n",
              "    </tr>\n",
              "    <tr>\n",
              "      <th>u2</th>\n",
              "      <td>u2</td>\n",
              "      <td>CAMERON</td>\n",
              "      <td>m0</td>\n",
              "      <td>10 things i hate about you</td>\n",
              "      <td>male</td>\n",
              "      <td>3\\n</td>\n",
              "    </tr>\n",
              "    <tr>\n",
              "      <th>u3</th>\n",
              "      <td>u3</td>\n",
              "      <td>CHASTITY</td>\n",
              "      <td>m0</td>\n",
              "      <td>10 things i hate about you</td>\n",
              "      <td>unknown</td>\n",
              "      <td>?\\n</td>\n",
              "    </tr>\n",
              "    <tr>\n",
              "      <th>u4</th>\n",
              "      <td>u4</td>\n",
              "      <td>JOEY</td>\n",
              "      <td>m0</td>\n",
              "      <td>10 things i hate about you</td>\n",
              "      <td>male</td>\n",
              "      <td>6\\n</td>\n",
              "    </tr>\n",
              "  </tbody>\n",
              "</table>\n",
              "</div>"
            ],
            "text/plain": [
              "   characterID characterName movieID                  movieTitle   gender  \\\n",
              "u0          u0        BIANCA      m0  10 things i hate about you   female   \n",
              "u1          u1         BRUCE      m0  10 things i hate about you  unknown   \n",
              "u2          u2       CAMERON      m0  10 things i hate about you     male   \n",
              "u3          u3      CHASTITY      m0  10 things i hate about you  unknown   \n",
              "u4          u4          JOEY      m0  10 things i hate about you     male   \n",
              "\n",
              "   position  \n",
              "u0      4\\n  \n",
              "u1      ?\\n  \n",
              "u2      3\\n  \n",
              "u3      ?\\n  \n",
              "u4      6\\n  "
            ]
          },
          "execution_count": 91,
          "metadata": {},
          "output_type": "execute_result"
        }
      ],
      "source": [
        "df_characters.head(5)"
      ]
    },
    {
      "cell_type": "code",
      "execution_count": 92,
      "metadata": {},
      "outputs": [
        {
          "name": "stdout",
          "output_type": "stream",
          "text": [
            "\n",
            "Below is an instruction that describes a movie related question. Write a response that appropriately answers the question.\n",
            "\n",
            "### Instruction:\n",
            "what gender is the character VEREKER in the movie zulu dawn? \n",
            "\n",
            "### Response:\n",
            "VEREKER's gender is unknown\n",
            "\n"
          ]
        }
      ],
      "source": [
        "# what gender is the character {} in the movie {}? \n",
        "\n",
        "template = \"\"\"\n",
        "Below is an instruction that describes a movie related question. Write a response that appropriately answers the question.\n",
        "\n",
        "### Instruction:\n",
        "what gender is the character {} in the movie {}? \n",
        "\n",
        "### Response:\n",
        "{}'s gender is {}\n",
        "\"\"\"\n",
        "\n",
        "for character, title, gender in zip(df_characters[\"characterName\"], df_characters[\"movieTitle\"], df_characters[\"gender\"]):\n",
        "    formatted_text = template.format(character, title, character, gender)\n",
        "    questions_list.append(formatted_text)\n",
        "\n",
        "print_last_question();"
      ]
    },
    {
      "cell_type": "code",
      "execution_count": 93,
      "metadata": {},
      "outputs": [
        {
          "name": "stdout",
          "output_type": "stream",
          "text": [
            "\n",
            "Below is an instruction that describes a movie related question. Write a response that appropriately answers the question.\n",
            "\n",
            "### Instruction:\n",
            "do you have the full script for the movie zulu dawn?  \n",
            "\n",
            "### Response:\n",
            "sure you can find it here http://www.aellea.com/script/zuludawn.txt\n",
            "\n",
            "\n"
          ]
        }
      ],
      "source": [
        "# do you have the full script for the movie {}? \n",
        "\n",
        "template = \"\"\"\n",
        "Below is an instruction that describes a movie related question. Write a response that appropriately answers the question.\n",
        "\n",
        "### Instruction:\n",
        "do you have the full script for the movie {}?  \n",
        "\n",
        "### Response:\n",
        "sure you can find it here {}\n",
        "\"\"\"\n",
        "\n",
        "for title, url in zip(df_script_urls[\"scriptURL\"], df_script_urls[\"url\"]):\n",
        "    formatted_text = template.format(title, url)\n",
        "    questions_list.append(formatted_text)\n",
        "\n",
        "print_last_question();"
      ]
    },
    {
      "cell_type": "code",
      "execution_count": 94,
      "metadata": {},
      "outputs": [],
      "source": [
        "# # what are some line that {} said in the movie {}? \n",
        "\n",
        "# template = \"\"\"\n",
        "# Below is an instruction that describes a movie related question. Write a response that appropriately answers the question.\n",
        "\n",
        "# ### Instruction:\n",
        "# what are some line that {} said in the movie {}? \n",
        "\n",
        "# ### Response:\n",
        "# {} said \\\"{}\\\"\n",
        "# \"\"\"\n",
        "\n",
        "# for character, title, text in zip(df_lines[\"character\"], df_movie_titles[\"movieTitle\"], df_lines[\"text\"]):\n",
        "#     formatted_text = template.format(character, title, character, text.replace(\"\\n\", \" \"))\n",
        "#     questions_list.append(formatted_text)\n",
        "\n",
        "# print_last_question();"
      ]
    },
    {
      "cell_type": "code",
      "execution_count": 95,
      "metadata": {},
      "outputs": [],
      "source": [
        "## Todo: Add additional training questions"
      ]
    },
    {
      "cell_type": "code",
      "execution_count": 96,
      "metadata": {},
      "outputs": [],
      "source": [
        "# Store the csv for training\n",
        "df_from_list = pd.DataFrame({'text': questions_list})\n",
        "df_from_list.to_csv(train_dir + \"train.csv\", index=True)"
      ]
    }
  ],
  "metadata": {
    "accelerator": "TPU",
    "colab": {
      "machine_shape": "hm",
      "provenance": []
    },
    "kernelspec": {
      "display_name": "Python 3",
      "name": "python3"
    },
    "language_info": {
      "codemirror_mode": {
        "name": "ipython",
        "version": 3
      },
      "file_extension": ".py",
      "mimetype": "text/x-python",
      "name": "python",
      "nbconvert_exporter": "python",
      "pygments_lexer": "ipython3",
      "version": "3.10.12"
    }
  },
  "nbformat": 4,
  "nbformat_minor": 0
}
